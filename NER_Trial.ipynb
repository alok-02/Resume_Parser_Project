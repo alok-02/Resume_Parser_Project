{
 "cells": [
  {
   "cell_type": "markdown",
   "id": "ef83f530",
   "metadata": {},
   "source": [
    "# Data Prepocessing"
   ]
  },
  {
   "cell_type": "code",
   "execution_count": 1,
   "id": "982b6450",
   "metadata": {},
   "outputs": [],
   "source": [
    "# import logging\n",
    "import json\n",
    "import re\n",
    "\n",
    "# JSON formatting functions\n",
    "def convert_dataturks_to_spacy(dataturks_JSON_FilePath):\n",
    "    training_data = []\n",
    "    lines=[]\n",
    "    with open(dataturks_JSON_FilePath, 'r', encoding=\"utf8\") as f:\n",
    "        lines = f.readlines()\n",
    "\n",
    "    for line in lines:\n",
    "        data = json.loads(line)\n",
    "        text = data['content'].replace(\"\\n\", \" \")\n",
    "        \n",
    "        entities = []\n",
    "        data_annotations = data['annotation']\n",
    "        if data_annotations is not None:\n",
    "            for annotation in data_annotations:\n",
    "                #only a single point in text annotation.\n",
    "                point = annotation['points'][0]\n",
    "                labels = annotation['label']\n",
    "                # handle both list of labels or a single label.\n",
    "                if not isinstance(labels, list):\n",
    "                    labels = [labels]\n",
    "\n",
    "                for label in labels:\n",
    "                    point_start = point['start']\n",
    "                    point_end = point['end']\n",
    "                    point_text = point['text']\n",
    "\n",
    "                    lstrip_diff = len(point_text) - len(point_text.lstrip())\n",
    "                    rstrip_diff = len(point_text) - len(point_text.rstrip())\n",
    "                    if lstrip_diff != 0:\n",
    "                        point_start = point_start + lstrip_diff\n",
    "                    if rstrip_diff != 0:\n",
    "                        point_end = point_end - rstrip_diff\n",
    "                    entities.append((point_start, point_end + 1 , label))\n",
    "        training_data.append((text, {\"entities\" : entities}))\n",
    "    return training_data\n",
    "\n",
    "def trim_entity_spans(data: list) -> list:\n",
    "    \"\"\"Removes leading and trailing white spaces from entity spans.\n",
    "\n",
    "    Args:\n",
    "        data (list): The data to be cleaned in spaCy JSON format.\n",
    "\n",
    "    Returns:\n",
    "        list: The cleaned data.\n",
    "    \"\"\"\n",
    "    invalid_span_tokens = re.compile(r'\\s')\n",
    "\n",
    "    cleaned_data = []\n",
    "    for text, annotations in data:\n",
    "        entities = annotations['entities']\n",
    "        valid_entities = []\n",
    "        for start, end, label in entities:\n",
    "            valid_start = start\n",
    "            valid_end = end\n",
    "            while valid_start < len(text) and invalid_span_tokens.match(\n",
    "                    text[valid_start]):\n",
    "                valid_start += 1\n",
    "            while valid_end > 1 and invalid_span_tokens.match(\n",
    "                    text[valid_end - 1]):\n",
    "                valid_end -= 1\n",
    "            valid_entities.append((valid_start, valid_end, label))\n",
    "        cleaned_data.append((text,valid_entities))\n",
    "    return cleaned_data\n"
   ]
  },
  {
   "cell_type": "code",
   "execution_count": 2,
   "id": "850642f2",
   "metadata": {},
   "outputs": [
    {
     "data": {
      "text/plain": [
       "220"
      ]
     },
     "execution_count": 2,
     "metadata": {},
     "output_type": "execute_result"
    }
   ],
   "source": [
    "data = trim_entity_spans(convert_dataturks_to_spacy(\"Entity Recognition in Resumes.json\"))\n",
    "\n",
    "len(data)\n"
   ]
  },
  {
   "cell_type": "code",
   "execution_count": 3,
   "id": "f9963bd0",
   "metadata": {},
   "outputs": [],
   "source": [
    "def SelfAnnoted(Path):\n",
    "    Cleaned=[]\n",
    "    \n",
    "    with open(Path, 'r', encoding=\"utf8\") as f:\n",
    "            lines = f.readlines()\n",
    "\n",
    "    for line in lines:\n",
    "        sample = json.loads(line)\n",
    "        annot=sample[\"annotations\"]\n",
    "        text=annot[0][0]\n",
    "        text= re.sub(r'[\\s]',\" \", text)\n",
    "        entity=annot[0][1][\"entities\"]\n",
    "        Cleaned.append((text,entity))\n",
    "    return Cleaned\n",
    "data2=SelfAnnoted(\"Self_Annot.json\")    \n",
    "data=data+data2\n"
   ]
  },
  {
   "cell_type": "code",
   "execution_count": 4,
   "id": "3008d694",
   "metadata": {},
   "outputs": [
    {
     "data": {
      "text/plain": [
       "267"
      ]
     },
     "execution_count": 4,
     "metadata": {},
     "output_type": "execute_result"
    }
   ],
   "source": [
    "    len(data)"
   ]
  },
  {
   "cell_type": "code",
   "execution_count": 5,
   "id": "443903dc",
   "metadata": {},
   "outputs": [
    {
     "data": {
      "text/plain": [
       "(\"Abhishek Jha Application Development Associate - Accenture  Bengaluru, Karnataka - Email me on Indeed: indeed.com/r/Abhishek-Jha/10e7a8cb732bc43a  • To work for an organization which provides me the opportunity to improve my skills and knowledge for my individual and company's growth in best possible ways.  Willing to relocate to: Bangalore, Karnataka  WORK EXPERIENCE  Application Development Associate  Accenture -  November 2017 to Present  Role: Currently working on Chat-bot. Developing Backend Oracle PeopleSoft Queries for the Bot which will be triggered based on given input. Also, Training the bot for different possible utterances (Both positive and negative), which will be given as input by the user.  EDUCATION  B.E in Information science and engineering  B.v.b college of engineering and technology -  Hubli, Karnataka  August 2013 to June 2017  12th in Mathematics  Woodbine modern school  April 2011 to March 2013  10th  Kendriya Vidyalaya  April 2001 to March 2011  SKILLS  C (Less than 1 year), Database (Less than 1 year), Database Management (Less than 1 year), Database Management System (Less than 1 year), Java (Less than 1 year)  ADDITIONAL INFORMATION  Technical Skills  https://www.indeed.com/r/Abhishek-Jha/10e7a8cb732bc43a?isid=rex-download&ikw=download-top&co=IN   • Programming language: C, C++, Java • Oracle PeopleSoft • Internet Of Things • Machine Learning • Database Management System • Computer Networks • Operating System worked on: Linux, Windows, Mac  Non - Technical Skills  • Honest and Hard-Working • Tolerant and Flexible to Different Situations • Polite and Calm • Team-Player\",\n",
       " [(1296, 1622, 'Skills'),\n",
       "  (993, 1154, 'Skills'),\n",
       "  (939, 957, 'College Name'),\n",
       "  (883, 905, 'College Name'),\n",
       "  (856, 860, 'Graduation Year'),\n",
       "  (771, 814, 'College Name'),\n",
       "  (727, 769, 'Designation'),\n",
       "  (407, 416, 'Companies worked at'),\n",
       "  (372, 405, 'Designation'),\n",
       "  (95, 145, 'Email Address'),\n",
       "  (60, 69, 'Location'),\n",
       "  (49, 58, 'Companies worked at'),\n",
       "  (13, 46, 'Designation'),\n",
       "  (0, 12, 'Name')])"
      ]
     },
     "execution_count": 5,
     "metadata": {},
     "output_type": "execute_result"
    }
   ],
   "source": [
    "data[0]"
   ]
  },
  {
   "cell_type": "markdown",
   "id": "71ac2352",
   "metadata": {},
   "source": [
    "# Making the data ready for Training"
   ]
  },
  {
   "cell_type": "code",
   "execution_count": 9,
   "id": "d37b5592",
   "metadata": {
    "scrolled": false
   },
   "outputs": [
    {
     "name": "stderr",
     "output_type": "stream",
     "text": [
      "100%|████████████████████████████████████████| 267/267 [00:01<00:00, 144.61it/s]\n"
     ]
    }
   ],
   "source": [
    "import spacy\n",
    "from spacy.tokens import DocBin\n",
    "from tqdm import tqdm\n",
    "\n",
    "def get_spacy_doc(data):\n",
    "    nlp = spacy.blank(\"en\") # load a new spacy model\n",
    "    db = DocBin() # create a DocBin object\n",
    "\n",
    "    for text, annot in tqdm(data): # data in previous format\n",
    "        doc = nlp(text) # create doc object from text\n",
    "#         annot=annot[\"entities\"]\n",
    "        ents=[]\n",
    "        entity_indices=[]\n",
    "        for start, end, label in annot :\n",
    "            # add character indexes\n",
    "            skip_entity=False\n",
    "            for idx in range(start,end):\n",
    "                if idx in entity_indices:\n",
    "                    skip_entity=True\n",
    "                    break\n",
    "            if skip_entity==True:\n",
    "                continue\n",
    "            entity_indices=entity_indices+list(range(start,end))\n",
    "            \n",
    "            \n",
    "            try:\n",
    "                span = doc.char_span(start, end, label=label)\n",
    "            except:\n",
    "                continue\n",
    "            if span is None:               \n",
    "                continue\n",
    "            else:\n",
    "                ents.append(span)\n",
    "            \n",
    "        try:\n",
    "            doc.ents=ents\n",
    "            db.add(doc)\n",
    "        except:\n",
    "            pass  \n",
    "    return db\n",
    "\n",
    "db=get_spacy_doc(data)\n",
    "db.to_disk(\"./train.spacy\") # save the docbin object"
   ]
  },
  {
   "cell_type": "markdown",
   "id": "8f4e168d",
   "metadata": {},
   "source": [
    "# Training the Data"
   ]
  },
  {
   "cell_type": "code",
   "execution_count": 82,
   "id": "4521a586",
   "metadata": {
    "scrolled": false
   },
   "outputs": [
    {
     "name": "stdout",
     "output_type": "stream",
     "text": [
      "\u001b[38;5;2m✔ Auto-filled config with all values\u001b[0m\r\n",
      "\u001b[38;5;2m✔ Saved config\u001b[0m\r\n",
      "config.cfg\r\n",
      "You can now add your data and train your pipeline:\r\n",
      "python -m spacy train config.cfg --paths.train ./train.spacy --paths.dev ./dev.spacy\r\n"
     ]
    }
   ],
   "source": [
    "!python -m spacy init fill-config base_config.cfg config.cfg\n",
    "\n"
   ]
  },
  {
   "cell_type": "code",
   "execution_count": 83,
   "id": "a159d642",
   "metadata": {
    "scrolled": true
   },
   "outputs": [
    {
     "name": "stdout",
     "output_type": "stream",
     "text": [
      "\u001b[38;5;4mℹ Saving to output directory: output\u001b[0m\n",
      "\u001b[38;5;4mℹ Using CPU\u001b[0m\n",
      "\u001b[38;5;4mℹ To switch to GPU 0, use the option: --gpu-id 0\u001b[0m\n",
      "\u001b[1m\n",
      "=========================== Initializing pipeline ===========================\u001b[0m\n",
      "[2022-11-25 23:40:21,782] [INFO] Set up nlp object from config\n",
      "[2022-11-25 23:40:21,788] [INFO] Pipeline: ['tok2vec', 'ner']\n",
      "[2022-11-25 23:40:21,791] [INFO] Created vocabulary\n",
      "[2022-11-25 23:40:22,204] [WARNING] [W112] The model specified to use for initial vectors (en_core_web_sm) has no vectors. This is almost certainly a mistake.\n",
      "[2022-11-25 23:40:22,206] [INFO] Added vectors: en_core_web_sm\n",
      "[2022-11-25 23:40:22,207] [INFO] Finished initializing nlp object\n",
      "[2022-11-25 23:40:35,179] [INFO] Initialized pipeline components: ['tok2vec', 'ner']\n",
      "\u001b[38;5;2m✔ Initialized pipeline\u001b[0m\n",
      "\u001b[1m\n",
      "============================= Training pipeline =============================\u001b[0m\n",
      "\u001b[38;5;4mℹ Pipeline: ['tok2vec', 'ner']\u001b[0m\n",
      "\u001b[38;5;4mℹ Initial learn rate: 0.001\u001b[0m\n",
      "E    #       LOSS TOK2VEC  LOSS NER  ENTS_F  ENTS_P  ENTS_R  SCORE \n",
      "---  ------  ------------  --------  ------  ------  ------  ------\n",
      "  0       0          0.00     68.09    0.00    0.00    0.00    0.00\n",
      "  0     200       2115.03  12825.30   27.75   36.33   22.45    0.28\n",
      "  1     400       5112.15   7197.44   49.68   60.98   41.91    0.50\n",
      "  2     600        247.60   4334.63   51.98   69.68   41.45    0.52\n",
      "  3     800       1600.22   4132.79   58.98   69.13   51.42    0.59\n",
      "  3    1000        206.50   3583.53   64.46   72.71   57.89    0.64\n",
      "  4    1200        257.82   3230.64   64.66   79.92   54.30    0.65\n",
      "  5    1400        447.36   3167.39   66.63   77.22   58.59    0.67\n",
      "  6    1600        429.11   3025.62   71.72   75.58   68.23    0.72\n",
      "  6    1800        346.18   2777.58   72.15   82.55   64.08    0.72\n",
      "  7    2000        204.39   2471.12   74.30   76.24   72.45    0.74\n",
      "  8    2200        248.02   2723.26   71.92   87.73   60.94    0.72\n",
      "  9    2400        284.73   2224.57   78.16   83.85   73.20    0.78\n",
      "  9    2600        336.18   2351.58   81.38   83.75   79.14    0.81\n",
      " 10    2800        312.03   2083.94   77.50   72.91   82.71    0.78\n",
      " 11    3000        355.06   2181.21   79.53   86.28   73.76    0.80\n",
      " 12    3200       3010.27   1931.90   80.56   82.19   79.00    0.81\n",
      " 12    3400        487.05   2105.48   84.14   83.01   85.30    0.84\n",
      " 13    3600        348.48   1736.29   82.52   87.67   77.93    0.83\n",
      " 14    3800        386.78   1861.44   82.19   79.85   84.67    0.82\n",
      " 15    4000        424.07   1781.07   86.11   89.04   83.37    0.86\n",
      " 16    4200        501.41   1865.51   83.83   88.30   79.79    0.84\n",
      " 16    4400       1372.27   1532.39   86.49   86.30   86.67    0.86\n",
      " 17    4600        567.95   1620.38   85.04   92.96   78.37    0.85\n",
      " 18    4800      14846.42   1791.53   86.24   87.39   85.13    0.86\n",
      " 19    5000        641.25   1486.64   84.40   91.36   78.42    0.84\n",
      " 19    5200        508.78   1392.86   87.83   91.23   84.67    0.88\n",
      " 20    5400        598.89   1524.21   87.28   87.17   87.40    0.87\n",
      " 21    5600        946.46   1451.02   87.31   84.55   90.25    0.87\n",
      " 22    5800        645.20   1438.49   88.86   89.53   88.19    0.89\n",
      " 22    6000        668.83   1417.59   86.83   92.73   81.63    0.87\n",
      " 23    6200        963.20   1344.19   86.19   88.81   83.73    0.86\n",
      " 24    6400       1168.19   1370.64   86.84   89.68   84.16    0.87\n",
      " 25    6600       1153.60   1351.19   87.74   90.10   85.49    0.88\n",
      " 26    6800       1043.48   1302.43   90.21   91.82   88.65    0.90\n",
      " 26    7000       1155.74   1298.87   89.73   86.95   92.68    0.90\n",
      " 27    7200        917.04   1335.41   89.45   93.61   85.63    0.89\n",
      " 28    7400       1038.05   1227.56   89.26   91.10   87.49    0.89\n",
      " 29    7600        829.20   1221.04   90.77   91.32   90.22    0.91\n",
      " 30    7800        937.35   1188.79   91.07   90.89   91.26    0.91\n",
      " 31    8000       1315.09   1438.21   89.62   92.25   87.13    0.90\n",
      " 32    8200       1265.01   1225.11   91.22   90.77   91.67    0.91\n",
      " 33    8400       1061.97   1348.87   92.15   93.32   91.02    0.92\n",
      " 34    8600       2000.03   1358.68   91.68   94.19   89.30    0.92\n",
      " 35    8800       1311.95   1512.58   92.01   92.01   92.01    0.92\n",
      " 36    9000       1509.94   1495.99   91.27   89.23   93.41    0.91\n",
      " 37    9200       1823.65   1397.42   92.71   95.15   90.39    0.93\n",
      " 38    9400       1626.77   1331.90   92.37   92.35   92.39    0.92\n",
      " 39    9600       2109.19   1367.40   92.03   92.93   91.14    0.92\n",
      " 41    9800       2131.11   1401.80   92.72   93.30   92.15    0.93\n",
      " 42   10000       1664.61   1217.97   92.61   94.16   91.12    0.93\n",
      "\u001b[38;5;2m✔ Saved pipeline to output directory\u001b[0m\n",
      "output/model-last\n"
     ]
    }
   ],
   "source": [
    "!python -m spacy train config.cfg --output ./output --paths.train ./train.spacy --paths.dev ./train.spacy"
   ]
  },
  {
   "cell_type": "markdown",
   "id": "76d350dc",
   "metadata": {},
   "source": [
    "# Loading best model saved after training"
   ]
  },
  {
   "cell_type": "code",
   "execution_count": 7,
   "id": "e067da52",
   "metadata": {},
   "outputs": [
    {
     "name": "stderr",
     "output_type": "stream",
     "text": [
      "C:\\Users\\Alok Kumar\\anaconda3\\lib\\site-packages\\cupy\\_environment.py:213: UserWarning: CUDA path could not be detected. Set CUDA_PATH environment variable if CuPy fails to load.\n",
      "  warnings.warn(\n",
      "C:\\Users\\Alok Kumar\\anaconda3\\lib\\site-packages\\cupy\\_environment.py:213: UserWarning: CUDA path could not be detected. Set CUDA_PATH environment variable if CuPy fails to load.\n",
      "  warnings.warn(\n",
      "C:\\Users\\Alok Kumar\\anaconda3\\lib\\site-packages\\cupy\\_environment.py:213: UserWarning: CUDA path could not be detected. Set CUDA_PATH environment variable if CuPy fails to load.\n",
      "  warnings.warn(\n",
      "C:\\Users\\Alok Kumar\\anaconda3\\lib\\site-packages\\cupy\\_environment.py:213: UserWarning: CUDA path could not be detected. Set CUDA_PATH environment variable if CuPy fails to load.\n",
      "  warnings.warn(\n"
     ]
    }
   ],
   "source": [
    "import spacy\n",
    "nlp = spacy.load(r\"./output/model-best\") #load the best model"
   ]
  },
  {
   "cell_type": "markdown",
   "id": "d31615f9",
   "metadata": {},
   "source": [
    "# Function to extract Phone Number and Email"
   ]
  },
  {
   "cell_type": "code",
   "execution_count": 8,
   "id": "ac9caaa8",
   "metadata": {},
   "outputs": [],
   "source": [
    "#Function to extract Phone Numbers from string using regular expressions\n",
    "def extract_phone_numbers(string):\n",
    "    r = re.compile(r'(\\d{3}[-\\.\\s]??\\d{3}[-\\.\\s]??\\d{4}|\\(\\d{3}\\)\\s*\\d{3}[-\\.\\s]??\\d{4}|\\d{3}[-\\.\\s]??\\d{4})')\n",
    "    phone_numbers = r.findall(string)\n",
    "    return [re.sub(r'\\D', '', number) for number in phone_numbers]\n",
    "#Function to extract Email address from a string using regular expressions\n",
    "def extract_email_addresses(string):\n",
    "    r = re.compile(r'[\\w\\.-]+@[\\w\\.-]+')\n",
    "    return r.findall(string)\n"
   ]
  },
  {
   "cell_type": "markdown",
   "id": "11763b4a",
   "metadata": {},
   "source": [
    "# Function for Cosine Similarity"
   ]
  },
  {
   "cell_type": "code",
   "execution_count": 9,
   "id": "66c139a3",
   "metadata": {},
   "outputs": [],
   "source": [
    "import math\n",
    "from collections import Counter\n",
    "from nltk.corpus import stopwords\n",
    "from nltk.tokenize import word_tokenize\n",
    "\n",
    "def cosine_similarity(X,Y):\n",
    "    X=\" \".join(X)\n",
    "    X_list = word_tokenize(X)\n",
    "    Y_list = word_tokenize(Y)\n",
    "\n",
    "    l1 =[];l2 =[]\n",
    "    for w in X_list:\n",
    "        if w in Y_list:\n",
    "            l1.append(1)\n",
    "            l2.append(1)\n",
    "            \n",
    "        else:\n",
    "            l1.append(1)\n",
    "            l2.append(0)\n",
    "        \n",
    "            \n",
    "    XY = 0\n",
    "    for i in range(len(X_list)):\n",
    "            XY+= l1[i]*l2[i]\n",
    "    if (sum(l1)*sum(l2))**0.5!=0:\n",
    "        \n",
    "        cosine = XY / float((sum(l1)*sum(l2))**0.5)\n",
    "    else:\n",
    "        cosine=0\n",
    "        \n",
    "    return cosine\n",
    "\n",
    "def getSkills(nlp,text):\n",
    "    doc=nlp(text)\n",
    "    skill=\"\"\n",
    "    for ent in doc.ents:\n",
    "        if ent.label_==\"Skills\":\n",
    "            skill=skill+\" \"+str(ent.text)\n",
    "\n",
    "    return skill"
   ]
  },
  {
   "cell_type": "code",
   "execution_count": 10,
   "id": "c9e5cc8c",
   "metadata": {},
   "outputs": [],
   "source": [
    "Computer_Science_Skills=[\"C++\",\"Java\",\"Python\",\"SQL\",\"Database\",\"web development\",\"MySQL\",\"Oracle\",\"Cloud Computing\",\"Problem-solving\",\"Communication\",\"Javascript\",\"UNIX\",\"Linux\",\"Java\"]\n",
    "Data_Science_Skills=[\"Python\",\"Machine Learning\",\"Deep Learning\",\"Tableau\",\"Data Visualisation\",\"Big Data\",\"Data Mining\",\"Natural Language Processing\",\"NLP\",\"TensorFlow\",\"Statistical Modeling\",\"Data Science\",\"Web Scraping\"]"
   ]
  },
  {
   "cell_type": "markdown",
   "id": "8461b757",
   "metadata": {},
   "source": [
    "# Reading PDF files and processing to get skills, similarity value , Phone No. and Email Id\n"
   ]
  },
  {
   "cell_type": "code",
   "execution_count": 15,
   "id": "9caadc46",
   "metadata": {},
   "outputs": [],
   "source": [
    "from spacy import displacy\n",
    "import PyPDF2\n",
    "import re\n",
    "def Skills(n,Profile,nlp):\n",
    "    Skill_Score={}\n",
    "    \n",
    "    for i in range(1,n):\n",
    "        pdfFileObj = open(str(i)+\".pdf\", 'rb')\n",
    "        pdfReader = PyPDF2.PdfFileReader(pdfFileObj)\n",
    "        text_sample=\"\"\n",
    "        for i in range(pdfReader.numPages):\n",
    "            pageObj = pdfReader.getPage(i)\n",
    "            text_sample=text_sample+pageObj.extractText()\n",
    "        pdfFileObj.close()\n",
    "        \n",
    "        text_sample=text_sample.replace(\"\\n\",\" \")\n",
    "        text_sample=re.sub(r\"[^a-zA-Z0-9\\-\\+\\.\\/\\@]\",\" \",text_sample)\n",
    "        doc = nlp(text_sample)\n",
    "        displacy.render(doc,style=\"ent\",jupyter=True)\n",
    "        print(\"-----------------------------------------------------------------------------------------------\")\n",
    "        Skill=getSkills(nlp,text_sample)\n",
    "#         Skill_Score[i]=cosine_similarity(Profile,Skill)\n",
    "        print(\"Similarity with Required Skills: \",cosine_similarity(Profile,Skill))\n",
    "        print(\"Mobile No:\",extract_phone_numbers(text_sample))\n",
    "        print(\"Email Id: \",extract_email_addresses(text_sample))\n",
    "        print(\"------------------------------------------------------------------------------------------------\")\n",
    "    return None"
   ]
  },
  {
   "cell_type": "code",
   "execution_count": 16,
   "id": "582a9ad6",
   "metadata": {},
   "outputs": [
    {
     "data": {
      "text/html": [
       "<span class=\"tex2jax_ignore\"><div class=\"entities\" style=\"line-height: 2.5; direction: ltr\">\n",
       "<mark class=\"entity\" style=\"background: #ddd; padding: 0.45em 0.6em; margin: 0 0.25em; line-height: 1; border-radius: 0.35em;\">\n",
       "    Alice Clark\n",
       "    <span style=\"font-size: 0.8em; font-weight: bold; line-height: 1; border-radius: 0.35em; vertical-align: middle; margin-left: 0.5rem\">Name</span>\n",
       "</mark>\n",
       "   \n",
       "<mark class=\"entity\" style=\"background: #ddd; padding: 0.45em 0.6em; margin: 0 0.25em; line-height: 1; border-radius: 0.35em;\">\n",
       "    AI\n",
       "    <span style=\"font-size: 0.8em; font-weight: bold; line-height: 1; border-radius: 0.35em; vertical-align: middle; margin-left: 0.5rem\">Skills</span>\n",
       "</mark>\n",
       " / \n",
       "<mark class=\"entity\" style=\"background: #ddd; padding: 0.45em 0.6em; margin: 0 0.25em; line-height: 1; border-radius: 0.35em;\">\n",
       "    Machine Learning\n",
       "    <span style=\"font-size: 0.8em; font-weight: bold; line-height: 1; border-radius: 0.35em; vertical-align: middle; margin-left: 0.5rem\">Skills</span>\n",
       "</mark>\n",
       "     Delhi  India Em ail me on Indeed     20+ y ears of experience in data han dling  design   and development     Data Wa rehou se  \n",
       "<mark class=\"entity\" style=\"background: #ddd; padding: 0.45em 0.6em; margin: 0 0.25em; line-height: 1; border-radius: 0.35em;\">\n",
       "    Data analysis\n",
       "    <span style=\"font-size: 0.8em; font-weight: bold; line-height: 1; border-radius: 0.35em; vertical-align: middle; margin-left: 0.5rem\">Skills</span>\n",
       "</mark>\n",
       "   star /snow fla ke scema data modelling  and design specific to  data warehousing  and business intelligence     Database  Experience in database designing  scalability  back -up and recovery  writing and   optimizing SQL code and Stored Procedures  creating functions  views  triggers and indexes.   Cloud platform  Worked on Microsoft Azure cloud services like Document DB  SQL Azure   \n",
       "<mark class=\"entity\" style=\"background: #ddd; padding: 0.45em 0.6em; margin: 0 0.25em; line-height: 1; border-radius: 0.35em;\">\n",
       "    Stream  Analytics\n",
       "    <span style=\"font-size: 0.8em; font-weight: bold; line-height: 1; border-radius: 0.35em; vertical-align: middle; margin-left: 0.5rem\">Skills</span>\n",
       "</mark>\n",
       "  Event hub  Power BI  \n",
       "<mark class=\"entity\" style=\"background: #ddd; padding: 0.45em 0.6em; margin: 0 0.25em; line-height: 1; border-radius: 0.35em;\">\n",
       "    Web Job\n",
       "    <span style=\"font-size: 0.8em; font-weight: bold; line-height: 1; border-radius: 0.35em; vertical-align: middle; margin-left: 0.5rem\">Skills</span>\n",
       "</mark>\n",
       "  Web App  Power BI  Azure data lake  analytics U -SQL    Willing to relocate anywhere     WORK EXPERIE NCE  Software Engineer   Microsoft   Bangalore   Karnataka   January  2000 to Present   1. Microsoft Rewards Live dashboards    Description  - \n",
       "<mark class=\"entity\" style=\"background: #ddd; padding: 0.45em 0.6em; margin: 0 0.25em; line-height: 1; border-radius: 0.35em;\">\n",
       "    Microsoft\n",
       "    <span style=\"font-size: 0.8em; font-weight: bold; line-height: 1; border-radius: 0.35em; vertical-align: middle; margin-left: 0.5rem\">Companies worked at</span>\n",
       "</mark>\n",
       " rewards is loyalty program that rewards Users for browsing and shopping   online. Microsoft Rewards members can earn points when searching with Bing  browsing with   Microsoft Edge and making purchases at the Xbox Store  the Windows St ore and the Microsoft   Store. Plus  user can pick up bonus points for taking daily quizzes and tours on the Microsoft   rewards website. Rewards live dashboards gives a live picture of usage world -wide and by   markets like US  Canada  Australia  new user regis tration count  top/bottom performing rewards   offers  orders stats and weekly trends of user activities  orders and new user registrations. the   PBI tiles gets refreshed in different frequencies starting from 5 seconds to 30 minutes.   Technology/Tools used     EDUCATI ON  Indian Inst itute o f Technolo gy   Mumbai   2001     SKILLS   \n",
       "<mark class=\"entity\" style=\"background: #ddd; padding: 0.45em 0.6em; margin: 0 0.25em; line-height: 1; border-radius: 0.35em;\">\n",
       "    Machine Learning\n",
       "    <span style=\"font-size: 0.8em; font-weight: bold; line-height: 1; border-radius: 0.35em; vertical-align: middle; margin-left: 0.5rem\">Skills</span>\n",
       "</mark>\n",
       "  \n",
       "<mark class=\"entity\" style=\"background: #ddd; padding: 0.45em 0.6em; margin: 0 0.25em; line-height: 1; border-radius: 0.35em;\">\n",
       "    Natural  Language  Processing\n",
       "    <span style=\"font-size: 0.8em; font-weight: bold; line-height: 1; border-radius: 0.35em; vertical-align: middle; margin-left: 0.5rem\">Skills</span>\n",
       "</mark>\n",
       "  and Big Data Handling    ADDITIONAL INFO RMATION   Professional Skills     Excellent analytical  \n",
       "<mark class=\"entity\" style=\"background: #ddd; padding: 0.45em 0.6em; margin: 0 0.25em; line-height: 1; border-radius: 0.35em;\">\n",
       "    problem solving\n",
       "    <span style=\"font-size: 0.8em; font-weight: bold; line-height: 1; border-radius: 0.35em; vertical-align: middle; margin-left: 0.5rem\">Skills</span>\n",
       "</mark>\n",
       "  communication  knowledge transfer and interpersonal   skills with ability to interact with individuals at all the levels     Quick learner and maintains cordial relationship with project mana ger and team members and   good performer both in team and independent job environments     Positive attitude towards superiors  amp  peers     Supervised junior developers throughout project lifecycle and provided technical assistance  </div></span>"
      ],
      "text/plain": [
       "<IPython.core.display.HTML object>"
      ]
     },
     "metadata": {},
     "output_type": "display_data"
    },
    {
     "name": "stdout",
     "output_type": "stream",
     "text": [
      "-----------------------------------------------------------------------------------------------\n",
      "Similarity with Required Skills:  0.6915640748081247\n",
      "Mobile No: []\n",
      "Email Id:  []\n",
      "------------------------------------------------------------------------------------------------\n"
     ]
    },
    {
     "data": {
      "text/html": [
       "<span class=\"tex2jax_ignore\"><div class=\"entities\" style=\"line-height: 2.5; direction: ltr\">\n",
       "<mark class=\"entity\" style=\"background: #ddd; padding: 0.45em 0.6em; margin: 0 0.25em; line-height: 1; border-radius: 0.35em;\">\n",
       "    Abhijeet Manhas\n",
       "    <span style=\"font-size: 0.8em; font-weight: bold; line-height: 1; border-radius: 0.35em; vertical-align: middle; margin-left: 0.5rem\">Name</span>\n",
       "</mark>\n",
       " Email   abhijeetmanhas720@gmail.com github.com/abhijeetmanhas Mobile   +91-862-896-3924 twitter.com/astromanhas linkedin.com/abhimanhas Education  \n",
       "<mark class=\"entity\" style=\"background: #ddd; padding: 0.45em 0.6em; margin: 0 0.25em; line-height: 1; border-radius: 0.35em;\">\n",
       "    Indian Institute of Technology Mandi Mandi\n",
       "    <span style=\"font-size: 0.8em; font-weight: bold; line-height: 1; border-radius: 0.35em; vertical-align: middle; margin-left: 0.5rem\">College Name</span>\n",
       "</mark>\n",
       "  India B.Tech in Computer Science Engineering  CGPA  8.41 July 2018   Present  Relevant coursework   \n",
       "<mark class=\"entity\" style=\"background: #ddd; padding: 0.45em 0.6em; margin: 0 0.25em; line-height: 1; border-radius: 0.35em;\">\n",
       "    Data Structures and Algorithms\n",
       "    <span style=\"font-size: 0.8em; font-weight: bold; line-height: 1; border-radius: 0.35em; vertical-align: middle; margin-left: 0.5rem\">Skills</span>\n",
       "</mark>\n",
       "  Computing and \n",
       "<mark class=\"entity\" style=\"background: #ddd; padding: 0.45em 0.6em; margin: 0 0.25em; line-height: 1; border-radius: 0.35em;\">\n",
       "    Data Science\n",
       "    <span style=\"font-size: 0.8em; font-weight: bold; line-height: 1; border-radius: 0.35em; vertical-align: middle; margin-left: 0.5rem\">Skills</span>\n",
       "</mark>\n",
       "  Data Science II  Data Science III  Applied Databases Practicum  Information and Database Systems  Linear Algebra.  Positions of Responsibility   Coordinator of Space Technology and Astronomy Cell  IIT Mandi for academic year 2019-20. Volunteered as Publicity head of AstraX 2020  annual inter-college Astro-meet . Experience  Google Summer of Code Developer SunPy  OpenAstronomy Metadata Searches using Fido May 2020 - Present  Working with SOAP and Web-Scrapers   Created methods to retrieve more details from XML responses received from querying Virtual Solar Observatory using Zeep Client. Build scrapers to support various archives for searching and fetching solar physics data in SunPy  python library for solar physics .  Making Interface for querying DBMS Services   Added  exibility in Federated Internet Data Obtainer Fido  to perform metadata only searches to web-services like Helio Event Knowledgebase HEK  and JSOC database. Worked with astropy tables and hashing of response objects to ease data inspection and post-search  ltering. Projects  HeyDoc App Ecosystem   Developed a Mobile iOS and android  app which allows users to search doctors  book appointments  and get prescription noti cations. It also includes DoctorDash - a web-app connected with HeyDoc through which doctors can register their clinics and manage bookings. Used  utter and Cloud Firestore.  Wild rePy - Deputy Lead Developer   Co-author of an open-source python library for Geographic Information Systems  GIS  Data analysis for detecting wild res. Worked on package s test suite  managing pip releases  and writing IO module for NASA EarthData  les.  Deep Generative Modelling for lensed Dark Matter   Used Generative Adversarial Neural Networks and Auto-Encoders to learn representation of dark matter images under strong gravitational lensing. Quanti ed the losses to compare DCGAN  AnoGAN and GANomaly for anomaly detection.  Gymkhana Activities Calendar Web-App   Made a Django based event-scheduler application deployed on nignx that is used by institute s societies/clubs to book slots for their activities to avoid clashes.  Gravis3D - Pseudo-Simulation of n-bodies under gravity   Allows to simulate Newtonian gravity model on real mass bodies on browser in 3D. Developed using astropy quantities and vpython.  Book Reviewer Android-App   An app through which book details like availability and reviews are fetched from various online stores by scanning its front page. Used OCR for text detection and jsoup for web-scraping.  Astro-Docker   A tool that can dockerize any python package in dev or stable mode using one command. Skills and Interests  Languages   \n",
       "<mark class=\"entity\" style=\"background: #ddd; padding: 0.45em 0.6em; margin: 0 0.25em; line-height: 1; border-radius: 0.35em;\">\n",
       "    Python\n",
       "    <span style=\"font-size: 0.8em; font-weight: bold; line-height: 1; border-radius: 0.35em; vertical-align: middle; margin-left: 0.5rem\">Skills</span>\n",
       "</mark>\n",
       "  \n",
       "<mark class=\"entity\" style=\"background: #ddd; padding: 0.45em 0.6em; margin: 0 0.25em; line-height: 1; border-radius: 0.35em;\">\n",
       "    Dart\n",
       "    <span style=\"font-size: 0.8em; font-weight: bold; line-height: 1; border-radius: 0.35em; vertical-align: middle; margin-left: 0.5rem\">Skills</span>\n",
       "</mark>\n",
       "  \n",
       "<mark class=\"entity\" style=\"background: #ddd; padding: 0.45em 0.6em; margin: 0 0.25em; line-height: 1; border-radius: 0.35em;\">\n",
       "    C++\n",
       "    <span style=\"font-size: 0.8em; font-weight: bold; line-height: 1; border-radius: 0.35em; vertical-align: middle; margin-left: 0.5rem\">Skills</span>\n",
       "</mark>\n",
       "  \n",
       "<mark class=\"entity\" style=\"background: #ddd; padding: 0.45em 0.6em; margin: 0 0.25em; line-height: 1; border-radius: 0.35em;\">\n",
       "    C\n",
       "    <span style=\"font-size: 0.8em; font-weight: bold; line-height: 1; border-radius: 0.35em; vertical-align: middle; margin-left: 0.5rem\">Skills</span>\n",
       "</mark>\n",
       "  \n",
       "<mark class=\"entity\" style=\"background: #ddd; padding: 0.45em 0.6em; margin: 0 0.25em; line-height: 1; border-radius: 0.35em;\">\n",
       "    PHP\n",
       "    <span style=\"font-size: 0.8em; font-weight: bold; line-height: 1; border-radius: 0.35em; vertical-align: middle; margin-left: 0.5rem\">Skills</span>\n",
       "</mark>\n",
       "  JavaScript.  Tools    utter  \n",
       "<mark class=\"entity\" style=\"background: #ddd; padding: 0.45em 0.6em; margin: 0 0.25em; line-height: 1; border-radius: 0.35em;\">\n",
       "    TensorFlow\n",
       "    <span style=\"font-size: 0.8em; font-weight: bold; line-height: 1; border-radius: 0.35em; vertical-align: middle; margin-left: 0.5rem\">Skills</span>\n",
       "</mark>\n",
       "  \n",
       "<mark class=\"entity\" style=\"background: #ddd; padding: 0.45em 0.6em; margin: 0 0.25em; line-height: 1; border-radius: 0.35em;\">\n",
       "    Django\n",
       "    <span style=\"font-size: 0.8em; font-weight: bold; line-height: 1; border-radius: 0.35em; vertical-align: middle; margin-left: 0.5rem\">Skills</span>\n",
       "</mark>\n",
       "  \n",
       "<mark class=\"entity\" style=\"background: #ddd; padding: 0.45em 0.6em; margin: 0 0.25em; line-height: 1; border-radius: 0.35em;\">\n",
       "    git\n",
       "    <span style=\"font-size: 0.8em; font-weight: bold; line-height: 1; border-radius: 0.35em; vertical-align: middle; margin-left: 0.5rem\">Skills</span>\n",
       "</mark>\n",
       "  \n",
       "<mark class=\"entity\" style=\"background: #ddd; padding: 0.45em 0.6em; margin: 0 0.25em; line-height: 1; border-radius: 0.35em;\">\n",
       "    docker\n",
       "    <span style=\"font-size: 0.8em; font-weight: bold; line-height: 1; border-radius: 0.35em; vertical-align: middle; margin-left: 0.5rem\">Skills</span>\n",
       "</mark>\n",
       "  \n",
       "<mark class=\"entity\" style=\"background: #ddd; padding: 0.45em 0.6em; margin: 0 0.25em; line-height: 1; border-radius: 0.35em;\">\n",
       "    VSCode\n",
       "    <span style=\"font-size: 0.8em; font-weight: bold; line-height: 1; border-radius: 0.35em; vertical-align: middle; margin-left: 0.5rem\">Skills</span>\n",
       "</mark>\n",
       "  AstroPy  \n",
       "<mark class=\"entity\" style=\"background: #ddd; padding: 0.45em 0.6em; margin: 0 0.25em; line-height: 1; border-radius: 0.35em;\">\n",
       "    Matplotlib\n",
       "    <span style=\"font-size: 0.8em; font-weight: bold; line-height: 1; border-radius: 0.35em; vertical-align: middle; margin-left: 0.5rem\">Skills</span>\n",
       "</mark>\n",
       "  \n",
       "<mark class=\"entity\" style=\"background: #ddd; padding: 0.45em 0.6em; margin: 0 0.25em; line-height: 1; border-radius: 0.35em;\">\n",
       "    Pandas\n",
       "    <span style=\"font-size: 0.8em; font-weight: bold; line-height: 1; border-radius: 0.35em; vertical-align: middle; margin-left: 0.5rem\">Skills</span>\n",
       "</mark>\n",
       "  \n",
       "<mark class=\"entity\" style=\"background: #ddd; padding: 0.45em 0.6em; margin: 0 0.25em; line-height: 1; border-radius: 0.35em;\">\n",
       "    sklearn\n",
       "    <span style=\"font-size: 0.8em; font-weight: bold; line-height: 1; border-radius: 0.35em; vertical-align: middle; margin-left: 0.5rem\">Skills</span>\n",
       "</mark>\n",
       "  \n",
       "<mark class=\"entity\" style=\"background: #ddd; padding: 0.45em 0.6em; margin: 0 0.25em; line-height: 1; border-radius: 0.35em;\">\n",
       "    keras\n",
       "    <span style=\"font-size: 0.8em; font-weight: bold; line-height: 1; border-radius: 0.35em; vertical-align: middle; margin-left: 0.5rem\">Skills</span>\n",
       "</mark>\n",
       "  \n",
       "<mark class=\"entity\" style=\"background: #ddd; padding: 0.45em 0.6em; margin: 0 0.25em; line-height: 1; border-radius: 0.35em;\">\n",
       "    openCV.\n",
       "    <span style=\"font-size: 0.8em; font-weight: bold; line-height: 1; border-radius: 0.35em; vertical-align: middle; margin-left: 0.5rem\">Skills</span>\n",
       "</mark>\n",
       "  General   \n",
       "<mark class=\"entity\" style=\"background: #ddd; padding: 0.45em 0.6em; margin: 0 0.25em; line-height: 1; border-radius: 0.35em;\">\n",
       "    Backend Development\n",
       "    <span style=\"font-size: 0.8em; font-weight: bold; line-height: 1; border-radius: 0.35em; vertical-align: middle; margin-left: 0.5rem\">Skills</span>\n",
       "</mark>\n",
       "  \n",
       "<mark class=\"entity\" style=\"background: #ddd; padding: 0.45em 0.6em; margin: 0 0.25em; line-height: 1; border-radius: 0.35em;\">\n",
       "    Deep Learning\n",
       "    <span style=\"font-size: 0.8em; font-weight: bold; line-height: 1; border-radius: 0.35em; vertical-align: middle; margin-left: 0.5rem\">Skills</span>\n",
       "</mark>\n",
       "  \n",
       "<mark class=\"entity\" style=\"background: #ddd; padding: 0.45em 0.6em; margin: 0 0.25em; line-height: 1; border-radius: 0.35em;\">\n",
       "    Android Development\n",
       "    <span style=\"font-size: 0.8em; font-weight: bold; line-height: 1; border-radius: 0.35em; vertical-align: middle; margin-left: 0.5rem\">Skills</span>\n",
       "</mark>\n",
       "  \n",
       "<mark class=\"entity\" style=\"background: #ddd; padding: 0.45em 0.6em; margin: 0 0.25em; line-height: 1; border-radius: 0.35em;\">\n",
       "    Astronomy\n",
       "    <span style=\"font-size: 0.8em; font-weight: bold; line-height: 1; border-radius: 0.35em; vertical-align: middle; margin-left: 0.5rem\">Skills</span>\n",
       "</mark>\n",
       "  \n",
       "<mark class=\"entity\" style=\"background: #ddd; padding: 0.45em 0.6em; margin: 0 0.25em; line-height: 1; border-radius: 0.35em;\">\n",
       "    Data Science\n",
       "    <span style=\"font-size: 0.8em; font-weight: bold; line-height: 1; border-radius: 0.35em; vertical-align: middle; margin-left: 0.5rem\">Skills</span>\n",
       "</mark>\n",
       "  \n",
       "<mark class=\"entity\" style=\"background: #ddd; padding: 0.45em 0.6em; margin: 0 0.25em; line-height: 1; border-radius: 0.35em;\">\n",
       "    Web scraping.\n",
       "    <span style=\"font-size: 0.8em; font-weight: bold; line-height: 1; border-radius: 0.35em; vertical-align: middle; margin-left: 0.5rem\">Skills</span>\n",
       "</mark>\n",
       " Achievements  Awards and Extra-Curriculars  Inter IIT Tech Meet 2019   Won bronze medal among all IITs in a Data Science challenge organized by bitgrit Inc. involving NLP and Time Series Forecasting.  Hon ble Prime Minister Box Invitee  Republic Day Parade 2017   Invited to PM Box to witness RD parade among 100 meritorious students pan India for extraordinary performance in CBSE AISSE  2016.  \n",
       "<mark class=\"entity\" style=\"background: #ddd; padding: 0.45em 0.6em; margin: 0 0.25em; line-height: 1; border-radius: 0.35em;\">\n",
       "    Indian National Mathematics Olympiad 2017\n",
       "    <span style=\"font-size: 0.8em; font-weight: bold; line-height: 1; border-radius: 0.35em; vertical-align: middle; margin-left: 0.5rem\">College Name</span>\n",
       "</mark>\n",
       "   Received INMO merit certi cate given to 50 high school students each year all across India issued by Homi Bhabha Centre For Science Education  TIFR.  Wolfram One Award Winner  TopCoder Hackathon IIT Mandi   Made a web-app using NodeJS which shows the availability of medicine in local stores using the Google Maps API. Used MongoDB for dummy database.  Enigma   AstraX 2019   Runners up in a 5-hour inter-college Computational Astrophysics Hackathon.</div></span>"
      ],
      "text/plain": [
       "<IPython.core.display.HTML object>"
      ]
     },
     "metadata": {},
     "output_type": "display_data"
    },
    {
     "name": "stdout",
     "output_type": "stream",
     "text": [
      "-----------------------------------------------------------------------------------------------\n",
      "Similarity with Required Skills:  0.6915640748081247\n",
      "Mobile No: ['8628963924']\n",
      "Email Id:  ['abhijeetmanhas720@gmail.com']\n",
      "------------------------------------------------------------------------------------------------\n"
     ]
    },
    {
     "data": {
      "text/html": [
       "<span class=\"tex2jax_ignore\"><div class=\"entities\" style=\"line-height: 2.5; direction: ltr\">\n",
       "<mark class=\"entity\" style=\"background: #ddd; padding: 0.45em 0.6em; margin: 0 0.25em; line-height: 1; border-radius: 0.35em;\">\n",
       "    DEEPALI SINGH\n",
       "    <span style=\"font-size: 0.8em; font-weight: bold; line-height: 1; border-radius: 0.35em; vertical-align: middle; margin-left: 0.5rem\">Name</span>\n",
       "</mark>\n",
       " deepalisingh2k@gmail.com /ne+91 8058041116 / nedn/deepalisingh11 /gtb/deepalisingh11 EDUCATION Indian Institute of Technology Mandi July 2019 - June 2023  \n",
       "<mark class=\"entity\" style=\"background: #ddd; padding: 0.45em 0.6em; margin: 0 0.25em; line-height: 1; border-radius: 0.35em;\">\n",
       "    BTech. in Computer Science and Engineering\n",
       "    <span style=\"font-size: 0.8em; font-weight: bold; line-height: 1; border-radius: 0.35em; vertical-align: middle; margin-left: 0.5rem\">Degree</span>\n",
       "</mark>\n",
       "  CGPA 9.01  Relevant Coursework   \n",
       "<mark class=\"entity\" style=\"background: #ddd; padding: 0.45em 0.6em; margin: 0 0.25em; line-height: 1; border-radius: 0.35em;\">\n",
       "    Data Structures and Algorithms\n",
       "    <span style=\"font-size: 0.8em; font-weight: bold; line-height: 1; border-radius: 0.35em; vertical-align: middle; margin-left: 0.5rem\">Skills</span>\n",
       "</mark>\n",
       "  \n",
       "<mark class=\"entity\" style=\"background: #ddd; padding: 0.45em 0.6em; margin: 0 0.25em; line-height: 1; border-radius: 0.35em;\">\n",
       "    Information and Database Systems\n",
       "    <span style=\"font-size: 0.8em; font-weight: bold; line-height: 1; border-radius: 0.35em; vertical-align: middle; margin-left: 0.5rem\">Skills</span>\n",
       "</mark>\n",
       "  Data Science - Probability  Statistics   \n",
       "<mark class=\"entity\" style=\"background: #ddd; padding: 0.45em 0.6em; margin: 0 0.25em; line-height: 1; border-radius: 0.35em;\">\n",
       "    Machine Learning\n",
       "    <span style=\"font-size: 0.8em; font-weight: bold; line-height: 1; border-radius: 0.35em; vertical-align: middle; margin-left: 0.5rem\">Skills</span>\n",
       "</mark>\n",
       "  Applied Databases Practicum  Computer Organisation  Introduction to \n",
       "<mark class=\"entity\" style=\"background: #ddd; padding: 0.45em 0.6em; margin: 0 0.25em; line-height: 1; border-radius: 0.35em;\">\n",
       "    Deep Learning\n",
       "    <span style=\"font-size: 0.8em; font-weight: bold; line-height: 1; border-radius: 0.35em; vertical-align: middle; margin-left: 0.5rem\">Skills</span>\n",
       "</mark>\n",
       "  \n",
       "<mark class=\"entity\" style=\"background: #ddd; padding: 0.45em 0.6em; margin: 0 0.25em; line-height: 1; border-radius: 0.35em;\">\n",
       "    Machine Learning in Crowd Modelling   Simulation\n",
       "    <span style=\"font-size: 0.8em; font-weight: bold; line-height: 1; border-radius: 0.35em; vertical-align: middle; margin-left: 0.5rem\">Skills</span>\n",
       "</mark>\n",
       "  Praktikum at TU Munich  EXPERIENCE Google Developer Student Club July 2022 - Present GDSC Lead  Google Developer Student Club Lead for the academic year 2022-23 for IIT Mandi. Samsung R D Bangalore June 2022 - Present Software Development Internship  Working in Samsung Ads team to convert batch data processing system to a Spark streaming application using distributed systems.  Major challenges include de-duplication and anonymisation of Ad tracking data in a stream process. Technical University of Munich Oct 2021 - March 2022 Semester Exchange  Spent the 5th semester of my Bachelor s as Winter Semester 21/22 exchange student at TU Munich - one of the top technical universities in EU.  Successfully completed course on Introduction to Deep Learning  Master s Praktikum on Machine Learning in Crowd Modelling   Simulation  and a seminar on Data Visualization. Indian Institute of Technology Mandi July 2021 - Nov 2021 Teaching Assistant Teaching Assistant for IIT Mandi Courses CS202 - Data Structures   Algorithms under Dr. Varunkumar Jayapaul and IC252 - Data Science II under Dr. Satyajit Thakor. The Girl Code July 2020 - Sept 2021 Community Manager  The Girl Code is a non-profit organisation that aims to introduce young girls to the world of programming by hosting workshops  guiding  and providing resources.  Single-handedly built  managed  and expanded the online community which is now thriving with 2000+ girls mainly from India  Singapore  and the USA.  Hosted programming workshops in Data Science and \n",
       "<mark class=\"entity\" style=\"background: #ddd; padding: 0.45em 0.6em; margin: 0 0.25em; line-height: 1; border-radius: 0.35em;\">\n",
       "    Machine Learning.\n",
       "    <span style=\"font-size: 0.8em; font-weight: bold; line-height: 1; border-radius: 0.35em; vertical-align: middle; margin-left: 0.5rem\">Skills</span>\n",
       "</mark>\n",
       "  Coordinated with Chapter-Leads and coding YouTubers to curate the online workshops in programming and supervised the interns as the workspace admin. SKILLS  Programming Languages   \n",
       "<mark class=\"entity\" style=\"background: #ddd; padding: 0.45em 0.6em; margin: 0 0.25em; line-height: 1; border-radius: 0.35em;\">\n",
       "    Python\n",
       "    <span style=\"font-size: 0.8em; font-weight: bold; line-height: 1; border-radius: 0.35em; vertical-align: middle; margin-left: 0.5rem\">Skills</span>\n",
       "</mark>\n",
       "  \n",
       "<mark class=\"entity\" style=\"background: #ddd; padding: 0.45em 0.6em; margin: 0 0.25em; line-height: 1; border-radius: 0.35em;\">\n",
       "    C++\n",
       "    <span style=\"font-size: 0.8em; font-weight: bold; line-height: 1; border-radius: 0.35em; vertical-align: middle; margin-left: 0.5rem\">Skills</span>\n",
       "</mark>\n",
       "  \n",
       "<mark class=\"entity\" style=\"background: #ddd; padding: 0.45em 0.6em; margin: 0 0.25em; line-height: 1; border-radius: 0.35em;\">\n",
       "    Scala\n",
       "    <span style=\"font-size: 0.8em; font-weight: bold; line-height: 1; border-radius: 0.35em; vertical-align: middle; margin-left: 0.5rem\">Skills</span>\n",
       "</mark>\n",
       "  JavaScript  Frameworks/Technologies   \n",
       "<mark class=\"entity\" style=\"background: #ddd; padding: 0.45em 0.6em; margin: 0 0.25em; line-height: 1; border-radius: 0.35em;\">\n",
       "    MySQL\n",
       "    <span style=\"font-size: 0.8em; font-weight: bold; line-height: 1; border-radius: 0.35em; vertical-align: middle; margin-left: 0.5rem\">Skills</span>\n",
       "</mark>\n",
       "  \n",
       "<mark class=\"entity\" style=\"background: #ddd; padding: 0.45em 0.6em; margin: 0 0.25em; line-height: 1; border-radius: 0.35em;\">\n",
       "    NodeJS\n",
       "    <span style=\"font-size: 0.8em; font-weight: bold; line-height: 1; border-radius: 0.35em; vertical-align: middle; margin-left: 0.5rem\">Skills</span>\n",
       "</mark>\n",
       "  \n",
       "<mark class=\"entity\" style=\"background: #ddd; padding: 0.45em 0.6em; margin: 0 0.25em; line-height: 1; border-radius: 0.35em;\">\n",
       "    MongoDB\n",
       "    <span style=\"font-size: 0.8em; font-weight: bold; line-height: 1; border-radius: 0.35em; vertical-align: middle; margin-left: 0.5rem\">Skills</span>\n",
       "</mark>\n",
       "  \n",
       "<mark class=\"entity\" style=\"background: #ddd; padding: 0.45em 0.6em; margin: 0 0.25em; line-height: 1; border-radius: 0.35em;\">\n",
       "    Firebase\n",
       "    <span style=\"font-size: 0.8em; font-weight: bold; line-height: 1; border-radius: 0.35em; vertical-align: middle; margin-left: 0.5rem\">Skills</span>\n",
       "</mark>\n",
       "  \n",
       "<mark class=\"entity\" style=\"background: #ddd; padding: 0.45em 0.6em; margin: 0 0.25em; line-height: 1; border-radius: 0.35em;\">\n",
       "    Spark\n",
       "    <span style=\"font-size: 0.8em; font-weight: bold; line-height: 1; border-radius: 0.35em; vertical-align: middle; margin-left: 0.5rem\">Skills</span>\n",
       "</mark>\n",
       "  \n",
       "<mark class=\"entity\" style=\"background: #ddd; padding: 0.45em 0.6em; margin: 0 0.25em; line-height: 1; border-radius: 0.35em;\">\n",
       "    Flask0\n",
       "    <span style=\"font-size: 0.8em; font-weight: bold; line-height: 1; border-radius: 0.35em; vertical-align: middle; margin-left: 0.5rem\">Skills</span>\n",
       "</mark>\n",
       "  Other Tools   \n",
       "<mark class=\"entity\" style=\"background: #ddd; padding: 0.45em 0.6em; margin: 0 0.25em; line-height: 1; border-radius: 0.35em;\">\n",
       "    Git\n",
       "    <span style=\"font-size: 0.8em; font-weight: bold; line-height: 1; border-radius: 0.35em; vertical-align: middle; margin-left: 0.5rem\">Skills</span>\n",
       "</mark>\n",
       "  \n",
       "<mark class=\"entity\" style=\"background: #ddd; padding: 0.45em 0.6em; margin: 0 0.25em; line-height: 1; border-radius: 0.35em;\">\n",
       "    GitHub\n",
       "    <span style=\"font-size: 0.8em; font-weight: bold; line-height: 1; border-radius: 0.35em; vertical-align: middle; margin-left: 0.5rem\">Skills</span>\n",
       "</mark>\n",
       "  Jupyter Notebook  \n",
       "<mark class=\"entity\" style=\"background: #ddd; padding: 0.45em 0.6em; margin: 0 0.25em; line-height: 1; border-radius: 0.35em;\">\n",
       "    LaTeX\n",
       "    <span style=\"font-size: 0.8em; font-weight: bold; line-height: 1; border-radius: 0.35em; vertical-align: middle; margin-left: 0.5rem\">Skills</span>\n",
       "</mark>\n",
       "  Socket.IO0 KEY PROJECTS Wiki Images  github link  Oct 2020 - September 2021 under Dr. T A. Gonsalves - Former Director  IIT Mandi  Developed a python script to scrape all the Wikipedia pages and retrieve useful information about images posted in Wikimedia Commons by a user.  This work enabled the Wikimedians communnity of IIT Mandi to fetch the needed data 10x faster and is now widely used amongst them.  Working on v1.3.6 to reduce the request rate and avoid race condition while using module threading.  Python  BeautifulSoup  IPL Auction Platform  website link  July 2020 - Sept 2020 ECell Event  Designed and implemented a standalone website to manage the entire auctioning of players in the Indian Premier League.  Implemented real time communication with web-sockets using firestore and the back-end controlled by an admin panel with features such as player management  accounts management for teams  and live leaderboard.  Expanded it as a quiz platform to conduct various other college events.  Python  Firestore  ReactJS  Dehla Pakad  website link  July 2020 Group Project  Built a web app multiplayer card game with online lobby in lockdown 1.0 when couldn t find online version of the game anywhere on the internet.  Flask-Socket.IO  SQLite3  Python  JavaScript ACADEMIC ACHIEVEMENTS  Academic Excellence Award in CSE at IIT Mandi for academic year 2020-2021  Scored 96.2  in 12th CBSE Boards   in top 1 percentile of 12th CBSE Board Exam in 2019  Won first prize in Hack36   a 36 hours long IIT Mandi hackathon as all women team  GitHub Link   First Runner Up in Enigma   a 12 hours long Machine Learning hackathon by Astrax 21 IIT Mandi  First Runner Up in ACM-W Algorithm Contest 21 by ACM-W IIT Mandi  YouTube Link  RESPONSIBILITIES  Core Member  Programming Club  Actively contributed to the programming community of the college and co-organised FrostHack 21.  Media Head  Literary Society  Monitored the media presence  monthly newsletters  and e-magazines.  Social Media and Outreach Head  Hiking and Trekking Club  Handled online accounts  curated content  and managed outreach.  Mentor  Guidance and Counselling Service  Mentor for the batch 2024 and 2025 joining the B.Tech program at IIT Mandi. EXTRA-CIRRUCULAR  Represented IIT Mandi in Group Dance and Creative Writing at Inter-IIT Cultural Meet 4.0 at IIT Bombay  Completed Junior Diploma in Kathak Dance at the age of 8  Core Member of Literary Society  Dance Club  Hiking and Trekking Club</div></span>"
      ],
      "text/plain": [
       "<IPython.core.display.HTML object>"
      ]
     },
     "metadata": {},
     "output_type": "display_data"
    },
    {
     "name": "stdout",
     "output_type": "stream",
     "text": [
      "-----------------------------------------------------------------------------------------------\n",
      "Similarity with Required Skills:  0.6255432421712243\n",
      "Mobile No: ['8058041116', '0202021']\n",
      "Email Id:  ['deepalisingh2k@gmail.com']\n",
      "------------------------------------------------------------------------------------------------\n"
     ]
    },
    {
     "data": {
      "text/html": [
       "<span class=\"tex2jax_ignore\"><div class=\"entities\" style=\"line-height: 2.5; direction: ltr\">\n",
       "<mark class=\"entity\" style=\"background: #ddd; padding: 0.45em 0.6em; margin: 0 0.25em; line-height: 1; border-radius: 0.35em;\">\n",
       "    YASH VERMA\n",
       "    <span style=\"font-size: 0.8em; font-weight: bold; line-height: 1; border-radius: 0.35em; vertical-align: middle; margin-left: 0.5rem\">Name</span>\n",
       "</mark>\n",
       " / 475b19144@students.iitmandi.ac.in /phone+91 9818 722 716 /map markerNoida  Uttar Pradesh /linkedinlinkedin.com/in/YashVerma25/ /githubgithub.com/yash-sudo EDUCATION B. Tech. Data Science   \n",
       "<mark class=\"entity\" style=\"background: #ddd; padding: 0.45em 0.6em; margin: 0 0.25em; line-height: 1; border-radius: 0.35em;\">\n",
       "    Indian Institute of Technology\n",
       "    <span style=\"font-size: 0.8em; font-weight: bold; line-height: 1; border-radius: 0.35em; vertical-align: middle; margin-left: 0.5rem\">College Name</span>\n",
       "</mark>\n",
       "  Mandi  5Aug 2019   Present till June 2023   Relevant Courses - Data Structures and Algorithms  Linear Algebra   Information And Database Systems  Mathematical Foundation of Computer Science  Data Science- 1 2 3  Python Probability   machine Learn- ing   Data Handling   Visualization  Data Preprocessing   mining .  CGPA  8.53  upto fourth semester  PROJECTS Neural Style Transfer  Github link   Deep Learning  Neural Network  PyTorch   Implemented research paper  A Neural Algorithm of Artistic Style  using PyTorch Framework. TBD  Github link   ChatBot  NLP  \n",
       "<mark class=\"entity\" style=\"background: #ddd; padding: 0.45em 0.6em; margin: 0 0.25em; line-height: 1; border-radius: 0.35em;\">\n",
       "    Telegram API\n",
       "    <span style=\"font-size: 0.8em; font-weight: bold; line-height: 1; border-radius: 0.35em; vertical-align: middle; margin-left: 0.5rem\">College Name</span>\n",
       "</mark>\n",
       "  Text Preprocessing  Python   Developed a chatbot used by freshers of IIT Mandi to get quick answers to their queries.  Used Neural Network to train the bot and NLTK library for preprocessing of the data Deployed on Telegram. Bloggy  Github link   Django  HTML  CSS  JavaScript  Deployed   Bloggy is a blog-sharing website where users can sign up and share there blogs with the public. TECHNICAL SKILLS  Languages   \n",
       "<mark class=\"entity\" style=\"background: #ddd; padding: 0.45em 0.6em; margin: 0 0.25em; line-height: 1; border-radius: 0.35em;\">\n",
       "    C++\n",
       "    <span style=\"font-size: 0.8em; font-weight: bold; line-height: 1; border-radius: 0.35em; vertical-align: middle; margin-left: 0.5rem\">Skills</span>\n",
       "</mark>\n",
       "  \n",
       "<mark class=\"entity\" style=\"background: #ddd; padding: 0.45em 0.6em; margin: 0 0.25em; line-height: 1; border-radius: 0.35em;\">\n",
       "    Python\n",
       "    <span style=\"font-size: 0.8em; font-weight: bold; line-height: 1; border-radius: 0.35em; vertical-align: middle; margin-left: 0.5rem\">Skills</span>\n",
       "</mark>\n",
       "  \n",
       "<mark class=\"entity\" style=\"background: #ddd; padding: 0.45em 0.6em; margin: 0 0.25em; line-height: 1; border-radius: 0.35em;\">\n",
       "    HTML-CSS\n",
       "    <span style=\"font-size: 0.8em; font-weight: bold; line-height: 1; border-radius: 0.35em; vertical-align: middle; margin-left: 0.5rem\">Skills</span>\n",
       "</mark>\n",
       "  Most experience    \n",
       "<mark class=\"entity\" style=\"background: #ddd; padding: 0.45em 0.6em; margin: 0 0.25em; line-height: 1; border-radius: 0.35em;\">\n",
       "    JavaScript\n",
       "    <span style=\"font-size: 0.8em; font-weight: bold; line-height: 1; border-radius: 0.35em; vertical-align: middle; margin-left: 0.5rem\">Designation</span>\n",
       "</mark>\n",
       "  Dart  Beginner Level experience   Frameworks  Django  Keras  Flutter  ScikitLearn  LaTeX  Relevant LIbraries  Pandas  Numpy  Matplotlib  \n",
       "<mark class=\"entity\" style=\"background: #ddd; padding: 0.45em 0.6em; margin: 0 0.25em; line-height: 1; border-radius: 0.35em;\">\n",
       "    BeautifulSoup\n",
       "    <span style=\"font-size: 0.8em; font-weight: bold; line-height: 1; border-radius: 0.35em; vertical-align: middle; margin-left: 0.5rem\">Companies worked at</span>\n",
       "</mark>\n",
       "  \n",
       "<mark class=\"entity\" style=\"background: #ddd; padding: 0.45em 0.6em; margin: 0 0.25em; line-height: 1; border-radius: 0.35em;\">\n",
       "    Platforms\n",
       "    <span style=\"font-size: 0.8em; font-weight: bold; line-height: 1; border-radius: 0.35em; vertical-align: middle; margin-left: 0.5rem\">Location</span>\n",
       "</mark>\n",
       "  Linux  Visual Studio Code. AWARDS   ACHIEVEMENTS  Won 3rd Prize inFrostHack 2021 - FrostHack is a national level Hackathon organized by IIT Mandi. There were a total of 300+ di/uniFB00erent colleges participating and my team came 3rd among all.  Inter IIT Tech Meet 2021 - Our team secured a bronze medal in the Bridgei2i s automatic headline senti- ment generator event.  Became Expert on Codeforces- Handle  Secured a global rank of 508 among 13 111 other candidates in Codeforces Round 719  Achieved a max rating of 1722  4 star  on CodeChef- Handle  Came 3rdin branch in URI challenge- URI is the competetive programming challenge for freshers  Won 2nd Position in Enigma  2020 - I  along with 2 others participated in a 5 hour Astronomical Data Sci- ence Hackathon. We built   trained a Deep Neural Network to classify astronomical images.  Acheived 1st Position in Case Study 19  a part of the intra college technical festival Utkarsh 19. POSITIONS OF RESPONSIBILITY  Career   Placement Cell - Student Representative for DSE branch at CnP cell  IIT Mandi  \n",
       "<mark class=\"entity\" style=\"background: #ddd; padding: 0.45em 0.6em; margin: 0 0.25em; line-height: 1; border-radius: 0.35em;\">\n",
       "    Event Coordinator\n",
       "    <span style=\"font-size: 0.8em; font-weight: bold; line-height: 1; border-radius: 0.35em; vertical-align: middle; margin-left: 0.5rem\">Designation</span>\n",
       "</mark>\n",
       "  Ruvaan - Successfully coordinated Quiz event in Ruvaan  The Annual Literary Fest of IIT Mandi.  Designauts - Core Team Member at Designauts  The Design club of IIT Mandi  Exodia - Volunteered for Sponsorship Team of Exodia 20</div></span>"
      ],
      "text/plain": [
       "<IPython.core.display.HTML object>"
      ]
     },
     "metadata": {},
     "output_type": "display_data"
    },
    {
     "name": "stdout",
     "output_type": "stream",
     "text": [
      "-----------------------------------------------------------------------------------------------\n",
      "Similarity with Required Skills:  0.20851441405707477\n",
      "Mobile No: []\n",
      "Email Id:  ['475b19144@students.iitmandi.ac.in']\n",
      "------------------------------------------------------------------------------------------------\n"
     ]
    },
    {
     "data": {
      "text/html": [
       "<span class=\"tex2jax_ignore\"><div class=\"entities\" style=\"line-height: 2.5; direction: ltr\">\n",
       "<mark class=\"entity\" style=\"background: #ddd; padding: 0.45em 0.6em; margin: 0 0.25em; line-height: 1; border-radius: 0.35em;\">\n",
       "    CONTACT IIT Mandi\n",
       "    <span style=\"font-size: 0.8em; font-weight: bold; line-height: 1; border-radius: 0.35em; vertical-align: middle; margin-left: 0.5rem\">Name</span>\n",
       "</mark>\n",
       " Kamand Campus E-mail     samagnaneshwarreddy@gmail.com Website     http //goo.gl/CLiZfn Phone     9816111272 WORK EXPERIENCE Microsoft Jun 2014   Aug 2014 IIT Mandi Dec 2012   Feb 2012 Intern Major Project    Automating APIs in  Automated Testing Framework  for a web application recently moved  to  azure cloud . Implemented  Performance report System .  automatically generating  timelines and graphs for each new build pushed into the Team Foundation server  Minor Project    Writing  web tests  and integrating  web test plugins  in  Error report server  for  Monitoring the Microsoft Axis web application. Academic Internhip Markov model  simulations and  Portfolio Optimization  for financial data using  R .  PROJECTS Stock Recommendation    Currently working on  as part of my B-tech project. involves Training and    testing Markov models and Pattern recognition techniques.  Big Data    Map Reduce    Implemented  Clustering algorithms  and  DGIM algorithm for streaming Data as  a team we worked on twitter data streams.  Web IRC in Python    Supports multiple chat rooms  private messages and broad casts.  Open Street Maps      Dynamically attaching IIT mandi map to open street map using openLayers.JS  It s hosted on my site. Link   http //goo.gl/NSuyMH SKILLS Proficient in  \n",
       "<mark class=\"entity\" style=\"background: #ddd; padding: 0.45em 0.6em; margin: 0 0.25em; line-height: 1; border-radius: 0.35em;\">\n",
       "    C and\n",
       "    <span style=\"font-size: 0.8em; font-weight: bold; line-height: 1; border-radius: 0.35em; vertical-align: middle; margin-left: 0.5rem\">Skills</span>\n",
       "</mark>\n",
       "  C++ Unit testing     Automation Frameworks   Visual studio Proficiency with  Linux Operating Systems  and VMs Handy with  \n",
       "<mark class=\"entity\" style=\"background: #ddd; padding: 0.45em 0.6em; margin: 0 0.25em; line-height: 1; border-radius: 0.35em;\">\n",
       "    Python\n",
       "    <span style=\"font-size: 0.8em; font-weight: bold; line-height: 1; border-radius: 0.35em; vertical-align: middle; margin-left: 0.5rem\">Skills</span>\n",
       "</mark>\n",
       "    \n",
       "<mark class=\"entity\" style=\"background: #ddd; padding: 0.45em 0.6em; margin: 0 0.25em; line-height: 1; border-radius: 0.35em;\">\n",
       "    R\n",
       "    <span style=\"font-size: 0.8em; font-weight: bold; line-height: 1; border-radius: 0.35em; vertical-align: middle; margin-left: 0.5rem\">Skills</span>\n",
       "</mark>\n",
       "    Perl   \n",
       "<mark class=\"entity\" style=\"background: #ddd; padding: 0.45em 0.6em; margin: 0 0.25em; line-height: 1; border-radius: 0.35em;\">\n",
       "    Shell Scripts Worked on\n",
       "    <span style=\"font-size: 0.8em; font-weight: bold; line-height: 1; border-radius: 0.35em; vertical-align: middle; margin-left: 0.5rem\">Skills</span>\n",
       "</mark>\n",
       "  Map Reduce  Framework  mrjob   Socket Programming  and Network protocols  Firewalls RELEVANT COURSES Advanced Data structures and Algorithms Analysis and Design of algorithm Network and Database Practicum  Operating Systems Pattern Recognition  Big Data and Map Reduce  Large Application practicum  Statistical Data Analysis  Operations Research  DBMS Sama Gnaneshwar Reddy Sama Gnaneshwar Reddy 1EDUCATION \n",
       "<mark class=\"entity\" style=\"background: #ddd; padding: 0.45em 0.6em; margin: 0 0.25em; line-height: 1; border-radius: 0.35em;\">\n",
       "    B-Tech Computer Science Engineering Jul\n",
       "    <span style=\"font-size: 0.8em; font-weight: bold; line-height: 1; border-radius: 0.35em; vertical-align: middle; margin-left: 0.5rem\">Designation</span>\n",
       "</mark>\n",
       " 2011   Jul 2015 Intermediate Aug 2009   May 2011 IIT Mandi CGPA 7.9 Sri Chaitanya Jr. college Percentage   94.8 ACHIEVEMENTS Pre-Placement Offer from Microsoft. Merit-cum-Means Scholarship and others for last 5 Years. IIT Mandi Robotics club coordinator for 2 years. INTERESTS Competitive Programming  1400 points   cgauss@codeforces  Reading a lot on hackernews  Quora and some blogs Comics   Cyanide and Happiness  Dilbert  xkcd REFERENCES Prof. Manoj Thakur Specialization   Operations Research  Optimization Technique Prof. T.A. Gonsalves Specialization   Networks Protocols  Distributed Applications    Sama Gnaneshwar Reddy 2</div></span>"
      ],
      "text/plain": [
       "<IPython.core.display.HTML object>"
      ]
     },
     "metadata": {},
     "output_type": "display_data"
    },
    {
     "name": "stdout",
     "output_type": "stream",
     "text": [
      "-----------------------------------------------------------------------------------------------\n",
      "Similarity with Required Skills:  0.20851441405707477\n",
      "Mobile No: ['9816111272']\n",
      "Email Id:  ['samagnaneshwarreddy@gmail.com', 'cgauss@codeforces']\n",
      "------------------------------------------------------------------------------------------------\n"
     ]
    },
    {
     "data": {
      "text/html": [
       "<span class=\"tex2jax_ignore\"><div class=\"entities\" style=\"line-height: 2.5; direction: ltr\">                            AJESH                       SHAPE                                                                         OBJECTIVETo work as a key player in a creative and challenging environment using cutting edge technologies where I canconstantly learn and improve my technical and analytical abilities and utilize my potential by successfully deliveringsolutions to serve in creating a better world.ORGANISATIONAL EXPERIENCE                                                                   W.J Towell Group      Technical Service Engineer-Tyres                    Nov2007-Feb2011Company Profile  One of the leading automobile dealers in Oman handling world renowned brands like Mazda  Bridgestone   SEAT Mahindra  Total and Antara etc.Technical Serice EngineerTechnical Support to the sales teamIntroduction of new products  upgradation of existing products etc. so as to increase volumes and improve Brandimage in the market.Working in close quarters with the entire team in new customer development as well as to retain the existingcustomers by tire performance monitoring  conducting Weight studies  Heat Analysis etc. and advising the customerin the proper selection and maintenance of tires.Imparting training and conducting seminars for in house personnel and customers.Warranty of tires  submission of Warranty Claim notes to the Principals and follow-up for reimbursement.Equipment maintenance and purchasePopular Hyundai         Service Engineer  November2006 October 2007Profile     Dealer for Hyundai Motors Ltd Trivandrum  Kerala  IndiaSERVICE ENGINEER- Hyundai AutomobilesResponsible for a service centreTechnical association with the Hyundai Motors LtdWarranty of partsTechnical training for the employeesCo-Ordinate all the supporting factors for the timely completion of the work.Employee managementMonthly reportsACADEMIC CREDENTIALSEducational Qualification B. Tech Graduate   Mechanical Engineering Mar Athanasius College of Engineering  MACE   Kothamangalam  Kerala  IndiaMahatma Gandhi University  Kerala IndiaAggregate  Overall   68   Year of Passing  September 2006Pre DegreeNew Man College  \n",
       "<mark class=\"entity\" style=\"background: #ddd; padding: 0.45em 0.6em; margin: 0 0.25em; line-height: 1; border-radius: 0.35em;\">\n",
       "    Thodupuzha Mahatma Gandhi University\n",
       "    <span style=\"font-size: 0.8em; font-weight: bold; line-height: 1; border-radius: 0.35em; vertical-align: middle; margin-left: 0.5rem\">College Name</span>\n",
       "</mark>\n",
       "  Kerala  IndiaAggregate  Overall   65.8   Year of passing  2001Secondary Education Vimala Matha High School  Kadalikkad  Kerala  IndiaAggregate  Overall   78.9   Board of Secondary Education  Kerala  \n",
       "<mark class=\"entity\" style=\"background: #ddd; padding: 0.45em 0.6em; margin: 0 0.25em; line-height: 1; border-radius: 0.35em;\">\n",
       "    IndiaYear of Passing\n",
       "    <span style=\"font-size: 0.8em; font-weight: bold; line-height: 1; border-radius: 0.35em; vertical-align: middle; margin-left: 0.5rem\">Designation</span>\n",
       "</mark>\n",
       "  1999TECHNICAL PROJECTS  SEMINARS  ACHIEVEMENTSPROJECTAutomation of Lubing Process- Apollo Tyres   Kerala  IndiaSEMINARPlasmatron Fuel ConvertersACHIEVEMENTSUndergone Off The Road Technical Seminar in Bridgestone Middle East and Africa  DubaiUndergone Technical seminar in Hyundai Motors  IndiaUndergone one month Industrial Training in Hindustan Machine Tools  HMT   IndiaSKILLS                                                                   COMPUTER PROFICIENCYOperating Systems  Windows   MS office  C-Programming  Adobe  Photoshop  HTML PERSONALWillingness to learn  creative nature  adaptive to different environments  workability with people in groups leadership quality and friendly behaviour PERSONAL DETAILSDate of birth     -  May10th 1984Permanent address    -     Languages Known     -   English  Hindi  Arabic  Malayalam and TamilAchievements      - Achieved good performance awardsHobbies      -  Playing Cricket  Badminton etcInteracting with PeopleSurfing on internetPassport Number    - Date of Issue     - 18.12.2006Date of Expiry     - 17.12.2016Oman Driving Licence No   -  DeclarationI consider myself familiar with Mechanical Engineering Aspects. I am also confident of my ability to complete aproject of any level of complexity with firm faith in teamwork.I hereby declare that the information furnished above is true to the best of my knowledge and belief.Date   10th November 2010          Ajesh M                                             www.downloadmela.com</div></span>"
      ],
      "text/plain": [
       "<IPython.core.display.HTML object>"
      ]
     },
     "metadata": {},
     "output_type": "display_data"
    },
    {
     "name": "stdout",
     "output_type": "stream",
     "text": [
      "-----------------------------------------------------------------------------------------------\n",
      "Similarity with Required Skills:  0\n",
      "Mobile No: []\n",
      "Email Id:  []\n",
      "------------------------------------------------------------------------------------------------\n"
     ]
    }
   ],
   "source": [
    "Skills(7,Data_Science_Skills,nlp)"
   ]
  },
  {
   "cell_type": "markdown",
   "id": "9487005c",
   "metadata": {},
   "source": [
    "# Thank You"
   ]
  }
 ],
 "metadata": {
  "kernelspec": {
   "display_name": "Python 3 (ipykernel)",
   "language": "python",
   "name": "python3"
  },
  "language_info": {
   "codemirror_mode": {
    "name": "ipython",
    "version": 3
   },
   "file_extension": ".py",
   "mimetype": "text/x-python",
   "name": "python",
   "nbconvert_exporter": "python",
   "pygments_lexer": "ipython3",
   "version": "3.9.13"
  }
 },
 "nbformat": 4,
 "nbformat_minor": 5
}
